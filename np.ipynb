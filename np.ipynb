{
 "cells": [
  {
   "cell_type": "code",
   "execution_count": 1,
   "metadata": {},
   "outputs": [],
   "source": [
    "import numpy as np"
   ]
  },
  {
   "cell_type": "code",
   "execution_count": 57,
   "metadata": {},
   "outputs": [],
   "source": [
    "arr = np.array([[1, 2, 3, 4],\n",
    "                [5, 6, 7, 8],\n",
    "                [9, 10, 11, 12]])"
   ]
  },
  {
   "cell_type": "code",
   "execution_count": 119,
   "metadata": {},
   "outputs": [
    {
     "name": "stdout",
     "output_type": "stream",
     "text": [
      "[13  4  5 30]\n"
     ]
    }
   ],
   "source": [
    "# Create the new column\n",
    "new_column = np.array([13, 4, 5])\n",
    "\n",
    "new_column = np.insert(new_column, new_column.size, 30, axis=0)\n",
    "\n",
    "print(new_column)\n"
   ]
  },
  {
   "cell_type": "code",
   "execution_count": 126,
   "metadata": {},
   "outputs": [],
   "source": [
    "arr = []\n",
    "arr.append([[2,2,2],[3,3,3]])"
   ]
  },
  {
   "cell_type": "code",
   "execution_count": 123,
   "metadata": {},
   "outputs": [],
   "source": [
    "arr = np.append(arr, [[2,2,2],[3,3,3]])"
   ]
  },
  {
   "cell_type": "code",
   "execution_count": 128,
   "metadata": {},
   "outputs": [
    {
     "name": "stdout",
     "output_type": "stream",
     "text": [
      "Epoch 1/10\n",
      "11/11 [==============================] - 1s 3ms/step - loss: 0.7014 - accuracy: 0.5166\n",
      "Epoch 2/10\n",
      "11/11 [==============================] - 0s 2ms/step - loss: 0.6770 - accuracy: 0.5740\n",
      "Epoch 3/10\n",
      "11/11 [==============================] - 0s 2ms/step - loss: 0.6616 - accuracy: 0.6163\n",
      "Epoch 4/10\n",
      "11/11 [==============================] - 0s 2ms/step - loss: 0.6465 - accuracy: 0.6375\n",
      "Epoch 5/10\n",
      "11/11 [==============================] - 0s 2ms/step - loss: 0.6397 - accuracy: 0.6405\n",
      "Epoch 6/10\n",
      "11/11 [==============================] - 0s 3ms/step - loss: 0.6414 - accuracy: 0.6375\n",
      "Epoch 7/10\n",
      "11/11 [==============================] - 0s 2ms/step - loss: 0.6228 - accuracy: 0.6556\n",
      "Epoch 8/10\n",
      "11/11 [==============================] - 0s 6ms/step - loss: 0.6061 - accuracy: 0.6858\n",
      "Epoch 9/10\n",
      "11/11 [==============================] - 0s 2ms/step - loss: 0.6034 - accuracy: 0.6465\n",
      "Epoch 10/10\n",
      "11/11 [==============================] - 0s 2ms/step - loss: 0.5822 - accuracy: 0.7190\n",
      "11/11 [==============================] - 0s 2ms/step - loss: 0.5571 - accuracy: 0.7583\n",
      "Test Loss: 0.5571\n",
      "Test Accuracy: 0.7583\n"
     ]
    }
   ],
   "source": [
    "import tensorflow as tf\n",
    "import numpy as np\n",
    "\n",
    "# Generate some random data\n",
    "data = np.random.rand(331, 128)\n",
    "labels = np.random.randint(0, 2, (331,))\n",
    "\n",
    "# Define your model architecture\n",
    "model = tf.keras.Sequential([\n",
    "    tf.keras.layers.Dense(64, activation='relu', input_shape=(128,)),\n",
    "    tf.keras.layers.Dense(32, activation='relu'),\n",
    "    tf.keras.layers.Dense(1, activation='sigmoid')\n",
    "])\n",
    "\n",
    "# Compile the model\n",
    "model.compile(optimizer='adam',\n",
    "              loss='binary_crossentropy',\n",
    "              metrics=['accuracy'])\n",
    "\n",
    "# Train the model\n",
    "model.fit(data, labels, epochs=10, batch_size=32)\n",
    "\n",
    "# Evaluate the model\n",
    "loss, accuracy = model.evaluate(data, labels)\n",
    "print(f\"Test Loss: {loss:.4f}\")\n",
    "print(f\"Test Accuracy: {accuracy:.4f}\")\n"
   ]
  },
  {
   "cell_type": "code",
   "execution_count": 131,
   "metadata": {},
   "outputs": [
    {
     "name": "stdout",
     "output_type": "stream",
     "text": [
      "(331, 128)\n"
     ]
    }
   ],
   "source": [
    "print(data.shape)"
   ]
  },
  {
   "cell_type": "code",
   "execution_count": 129,
   "metadata": {},
   "outputs": [
    {
     "name": "stdout",
     "output_type": "stream",
     "text": [
      "[0 1 1 1 0 1 0 0 1 0 0 0 1 0 0 0 0 0 1 0 1 1 1 0 0 1 1 0 0 1 0 0 1 1 1 0 0\n",
      " 1 0 0 1 1 0 1 1 0 1 1 1 1 1 0 1 1 0 0 0 0 1 1 1 0 1 1 1 0 0 0 1 1 1 1 0 0\n",
      " 1 1 0 0 1 0 0 1 0 1 1 1 0 1 0 1 1 0 1 1 1 0 0 1 0 1 0 0 1 0 1 0 1 0 0 1 0\n",
      " 0 1 0 0 0 0 0 0 1 0 1 0 0 0 1 1 1 0 0 1 1 1 1 0 0 0 0 1 1 0 1 0 1 1 1 0 1\n",
      " 0 0 0 0 1 0 0 0 1 0 1 1 1 0 0 0 0 1 0 0 1 0 0 1 0 1 0 1 1 1 1 0 0 0 1 0 0\n",
      " 1 1 0 1 0 0 1 1 1 1 0 0 0 1 0 1 0 0 1 1 1 1 1 1 0 0 1 1 1 1 1 0 1 0 0 1 0\n",
      " 0 1 1 0 1 0 1 0 1 1 0 0 0 0 1 0 0 0 1 1 0 1 0 1 0 0 0 1 0 0 1 0 0 0 0 1 1\n",
      " 0 0 0 0 1 1 1 1 0 1 0 1 1 1 1 0 0 1 1 0 0 0 0 0 0 0 1 0 1 0 0 1 1 0 0 0 1\n",
      " 1 0 0 1 0 1 0 1 1 1 0 0 0 1 1 1 1 1 0 0 1 0 0 0 0 1 1 1 0 1 1 0 0 1 0]\n"
     ]
    }
   ],
   "source": [
    "print(labels)"
   ]
  },
  {
   "cell_type": "code",
   "execution_count": 132,
   "metadata": {},
   "outputs": [
    {
     "name": "stdout",
     "output_type": "stream",
     "text": [
      "Downloading data from https://www.cs.toronto.edu/~kriz/cifar-10-python.tar.gz\n",
      "170498071/170498071 [==============================] - 18s 0us/step\n",
      "Epoch 1/10\n",
      "1563/1563 [==============================] - 41s 26ms/step - loss: 1.5572 - accuracy: 0.4302 - val_loss: 1.2934 - val_accuracy: 0.5396\n",
      "Epoch 2/10\n",
      "1563/1563 [==============================] - 39s 25ms/step - loss: 1.1873 - accuracy: 0.5784 - val_loss: 1.0754 - val_accuracy: 0.6207\n",
      "Epoch 3/10\n",
      "1563/1563 [==============================] - 40s 25ms/step - loss: 1.0445 - accuracy: 0.6319 - val_loss: 1.0092 - val_accuracy: 0.6450\n",
      "Epoch 4/10\n",
      "1563/1563 [==============================] - 40s 25ms/step - loss: 0.9450 - accuracy: 0.6674 - val_loss: 0.9969 - val_accuracy: 0.6545\n",
      "Epoch 5/10\n",
      "1563/1563 [==============================] - 40s 26ms/step - loss: 0.8684 - accuracy: 0.6972 - val_loss: 1.0284 - val_accuracy: 0.6397\n",
      "Epoch 6/10\n",
      "1563/1563 [==============================] - 47s 30ms/step - loss: 0.8147 - accuracy: 0.7149 - val_loss: 0.8944 - val_accuracy: 0.6913\n",
      "Epoch 7/10\n",
      "1563/1563 [==============================] - 44s 28ms/step - loss: 0.7660 - accuracy: 0.7318 - val_loss: 0.9148 - val_accuracy: 0.6885\n",
      "Epoch 8/10\n",
      "1563/1563 [==============================] - 43s 27ms/step - loss: 0.7190 - accuracy: 0.7483 - val_loss: 0.8770 - val_accuracy: 0.7047\n",
      "Epoch 9/10\n",
      "1563/1563 [==============================] - 44s 28ms/step - loss: 0.6848 - accuracy: 0.7616 - val_loss: 0.9379 - val_accuracy: 0.6862\n",
      "Epoch 10/10\n",
      "1563/1563 [==============================] - 43s 28ms/step - loss: 0.6499 - accuracy: 0.7707 - val_loss: 0.8786 - val_accuracy: 0.7100\n",
      "313/313 [==============================] - 3s 8ms/step - loss: 0.8786 - accuracy: 0.7100\n",
      "Test Loss: 0.8786\n",
      "Test Accuracy: 0.7100\n"
     ]
    }
   ],
   "source": [
    "import tensorflow as tf\n",
    "from tensorflow.keras import datasets, layers, models\n",
    "\n",
    "# Load and preprocess the dataset\n",
    "(train_images, train_labels), (test_images, test_labels) = datasets.cifar10.load_data()\n",
    "train_images = train_images / 255.0\n",
    "test_images = test_images / 255.0\n",
    "\n",
    "# Define the CNN model architecture\n",
    "model = models.Sequential()\n",
    "model.add(layers.Conv2D(32, (3, 3), activation='relu', input_shape=(32, 32, 3)))\n",
    "model.add(layers.MaxPooling2D((2, 2)))\n",
    "model.add(layers.Conv2D(64, (3, 3), activation='relu'))\n",
    "model.add(layers.MaxPooling2D((2, 2)))\n",
    "model.add(layers.Conv2D(64, (3, 3), activation='relu'))\n",
    "model.add(layers.Flatten())\n",
    "model.add(layers.Dense(64, activation='relu'))\n",
    "model.add(layers.Dense(10))\n",
    "\n",
    "# Compile the model\n",
    "model.compile(optimizer='adam',\n",
    "              loss=tf.keras.losses.SparseCategoricalCrossentropy(from_logits=True),\n",
    "              metrics=['accuracy'])\n",
    "\n",
    "# Train the model\n",
    "model.fit(train_images, train_labels, epochs=10, validation_data=(test_images, test_labels))\n",
    "\n",
    "# Evaluate the model\n",
    "test_loss, test_accuracy = model.evaluate(test_images, test_labels)\n",
    "print(f\"Test Loss: {test_loss:.4f}\")\n",
    "print(f\"Test Accuracy: {test_accuracy:.4f}\")\n"
   ]
  },
  {
   "cell_type": "code",
   "execution_count": 111,
   "metadata": {},
   "outputs": [],
   "source": [
    "def pad_repeat(spectogram:np.any, width:int):\n",
    "    counter = 0\n",
    "    if spectogram.shape[1] > width:\n",
    "      return spectogram[:, :width]\n",
    "    else:\n",
    "        while len(spectogram[0]) < width:\n",
    "            # Create the new column\n",
    "            new_column = spectogram[:, counter]\n",
    "            spectogram = np.insert(spectogram, spectogram[0].size, new_column, axis=1)\n",
    "            counter += 1  \n",
    "    return spectogram"
   ]
  },
  {
   "cell_type": "code",
   "execution_count": 113,
   "metadata": {},
   "outputs": [
    {
     "data": {
      "text/plain": [
       "100"
      ]
     },
     "execution_count": 113,
     "metadata": {},
     "output_type": "execute_result"
    }
   ],
   "source": [
    "arr = pad_repeat(arr,100)\n",
    "arr.shape[1]"
   ]
  },
  {
   "cell_type": "code",
   "execution_count": 59,
   "metadata": {},
   "outputs": [
    {
     "data": {
      "text/plain": [
       "array([0, 1])"
      ]
     },
     "execution_count": 59,
     "metadata": {},
     "output_type": "execute_result"
    }
   ],
   "source": [
    "np.arange(2)"
   ]
  },
  {
   "cell_type": "code",
   "execution_count": 20,
   "metadata": {},
   "outputs": [
    {
     "data": {
      "text/plain": [
       "array([ 2,  6, 10])"
      ]
     },
     "execution_count": 20,
     "metadata": {},
     "output_type": "execute_result"
    }
   ],
   "source": []
  },
  {
   "cell_type": "code",
   "execution_count": 17,
   "metadata": {},
   "outputs": [
    {
     "data": {
      "text/plain": [
       "3"
      ]
     },
     "execution_count": 17,
     "metadata": {},
     "output_type": "execute_result"
    }
   ],
   "source": [
    "arr.shape[0]"
   ]
  }
 ],
 "metadata": {
  "kernelspec": {
   "display_name": "Python 3",
   "language": "python",
   "name": "python3"
  },
  "language_info": {
   "codemirror_mode": {
    "name": "ipython",
    "version": 3
   },
   "file_extension": ".py",
   "mimetype": "text/x-python",
   "name": "python",
   "nbconvert_exporter": "python",
   "pygments_lexer": "ipython3",
   "version": "3.10.4"
  },
  "orig_nbformat": 4
 },
 "nbformat": 4,
 "nbformat_minor": 2
}
